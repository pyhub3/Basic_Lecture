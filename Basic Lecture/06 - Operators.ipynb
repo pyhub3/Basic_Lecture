{
 "cells": [
  {
   "cell_type": "markdown",
   "metadata": {},
   "source": [
    "# Python Operators"
   ]
  },
  {
   "cell_type": "markdown",
   "metadata": {},
   "source": [
    "### What are operators in python?\n",
    "    Operators are special symbols in Python that carry out arithmetic or logical computation. \n",
    "    The value that the operator operates on is called the operand."
   ]
  },
  {
   "cell_type": "markdown",
   "metadata": {},
   "source": [
    "## Arithmetic Operators\n",
    "    Arthimetic operators are used to perform mathmetical operations like addition, subtraction, multiplication, etc.\n",
    "    \n",
    "    +\t Add two operands or unary plus\t\n",
    "    -\t Subtract right operand from the left \n",
    "    *\t Multiply two operands\t\n",
    "    /\t Divide left operand by the right one (always results into float)\n",
    "    %\t Modulus - remainder of the division of left operand by the right\n",
    "    //\tFloor division - division that results into whole number adjusted to the left in the number line\n",
    "    **\tExponent - left operand raised to the power of right (x to the power y)"
   ]
  },
  {
   "cell_type": "code",
   "execution_count": 1,
   "metadata": {},
   "outputs": [
    {
     "name": "stdout",
     "output_type": "stream",
     "text": [
      "x + y = 17\n",
      "x - y = 9\n",
      "x * y = 52\n",
      "x / y = 3.25\n",
      "x % y = 1\n",
      "x // y = 3\n",
      "x ** y = 28561\n"
     ]
    }
   ],
   "source": [
    "x = 13\n",
    "y = 4\n",
    "\n",
    "print('x + y =',x+y)\n",
    "print('x - y =',x-y)\n",
    "print('x * y =',x*y)\n",
    "print('x / y =',x/y)\n",
    "print('x % y =',x%y)\n",
    "print('x // y =',x//y)\n",
    "print('x ** y =',x**y)"
   ]
  },
  {
   "cell_type": "code",
   "execution_count": null,
   "metadata": {},
   "outputs": [],
   "source": []
  },
  {
   "cell_type": "markdown",
   "metadata": {},
   "source": [
    "## Comparison operators\n",
    "    Comparison operators are used to compare values. \n",
    "    It either returns True or False according to the condition.\n",
    "\n",
    "    >   - Greater than \n",
    "    <   - Less than \n",
    "    ==  - Equal to \n",
    "    !=  - Not equal to \n",
    "    >=  - Greater than or equal to \n",
    "    <=  - Less than or equal to "
   ]
  },
  {
   "cell_type": "code",
   "execution_count": 2,
   "metadata": {},
   "outputs": [
    {
     "name": "stdout",
     "output_type": "stream",
     "text": [
      "x > y  is False\n",
      "x < y  is True\n",
      "x == y is False\n",
      "x != y is True\n",
      "x >= y is False\n",
      "x <= y is True\n"
     ]
    }
   ],
   "source": [
    "x = 10\n",
    "y = 12\n",
    "\n",
    "print('x > y  is',x>y) \n",
    "print('x < y  is',x<y)\n",
    "print('x == y is',x==y)\n",
    "print('x != y is',x!=y)\n",
    "print('x >= y is',x>=y)\n",
    "print('x <= y is',x<=y)"
   ]
  },
  {
   "cell_type": "code",
   "execution_count": null,
   "metadata": {},
   "outputs": [],
   "source": []
  },
  {
   "cell_type": "markdown",
   "metadata": {},
   "source": [
    "## Logical operators\n",
    "    Logical operators are the and, or, not operators.\n",
    "\n",
    "    and - True if both the operands are true\t\n",
    "    or  - True if either of the operands is true\n",
    "    not - True if operand is false (complements the operand)\t"
   ]
  },
  {
   "cell_type": "code",
   "execution_count": 3,
   "metadata": {},
   "outputs": [
    {
     "name": "stdout",
     "output_type": "stream",
     "text": [
      "x and y is False\n",
      "x or y is True\n",
      "not x is False\n"
     ]
    }
   ],
   "source": [
    "x = True\n",
    "y = False\n",
    "\n",
    "print('x and y is',x and y)\n",
    "print('x or y is',x or y)\n",
    "print('not x is',not x)"
   ]
  },
  {
   "cell_type": "code",
   "execution_count": 6,
   "metadata": {},
   "outputs": [
    {
     "name": "stdout",
     "output_type": "stream",
     "text": [
      "True\n"
     ]
    }
   ],
   "source": [
    "print(not False)"
   ]
  },
  {
   "cell_type": "code",
   "execution_count": null,
   "metadata": {},
   "outputs": [],
   "source": []
  }
 ],
 "metadata": {
  "kernelspec": {
   "display_name": "Python 3",
   "language": "python",
   "name": "python3"
  },
  "language_info": {
   "codemirror_mode": {
    "name": "ipython",
    "version": 3
   },
   "file_extension": ".py",
   "mimetype": "text/x-python",
   "name": "python",
   "nbconvert_exporter": "python",
   "pygments_lexer": "ipython3",
   "version": "3.7.6"
  }
 },
 "nbformat": 4,
 "nbformat_minor": 2
}
