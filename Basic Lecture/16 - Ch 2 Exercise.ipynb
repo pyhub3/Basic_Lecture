{
 "cells": [
  {
   "cell_type": "markdown",
   "metadata": {},
   "source": [
    "# Ch 2 Exercise  "
   ]
  },
  {
   "cell_type": "markdown",
   "metadata": {},
   "source": [
    "### Example 1: Find the Largest Among Three Numbers"
   ]
  },
  {
   "cell_type": "code",
   "execution_count": 1,
   "metadata": {},
   "outputs": [
    {
     "name": "stdout",
     "output_type": "stream",
     "text": [
      "50 is the largest number.\n"
     ]
    }
   ],
   "source": [
    "num1 = 50\n",
    "num2 = 40\n",
    "num3 = 30\n",
    "\n",
    "if num1 > num2 and num1 > num3:\n",
    "    print(num1, \"is the largest number.\")\n",
    "elif num2 > num1 and num2 > num3:\n",
    "    print(num2, \"is the largest number.\")\n",
    "else:\n",
    "    print(num3, \"is the largest number.\")"
   ]
  },
  {
   "cell_type": "code",
   "execution_count": null,
   "metadata": {},
   "outputs": [],
   "source": []
  },
  {
   "cell_type": "markdown",
   "metadata": {},
   "source": [
    "### Example 2: Check Leap Year\n",
    "    A leap year is exactly divisible by 4."
   ]
  },
  {
   "cell_type": "code",
   "execution_count": 2,
   "metadata": {},
   "outputs": [
    {
     "name": "stdout",
     "output_type": "stream",
     "text": [
      "2000 is the leap year.\n"
     ]
    }
   ],
   "source": [
    "year = 2000\n",
    "\n",
    "if year % 4 == 0:\n",
    "    print(year, \"is the leap year.\")\n",
    "else:\n",
    "    print(year, \"is not the leap year.\")"
   ]
  },
  {
   "cell_type": "code",
   "execution_count": null,
   "metadata": {},
   "outputs": [],
   "source": []
  },
  {
   "cell_type": "markdown",
   "metadata": {},
   "source": [
    "### Example 3: Genrate Fibonacci Sequence\n",
    "    Fibonacci sequence is the integer sequence of 0,1,2,3,5,8,...\n",
    "    The first two terms are 0 and 1. All other terms are obtained by adding the two\n",
    "    preceding terms. This means to say the nth term is equal to (n-1)th + (n-2)th term."
   ]
  },
  {
   "cell_type": "code",
   "execution_count": 8,
   "metadata": {},
   "outputs": [
    {
     "name": "stdout",
     "output_type": "stream",
     "text": [
      "0, 1, 1, 2, 3, 5, 8, 13, 21, 34, 55, 89, "
     ]
    }
   ],
   "source": [
    "n1 = 0\n",
    "n2 = 1\n",
    "\n",
    "number = 100\n",
    "\n",
    "counter = 0\n",
    "\n",
    "while counter < number:\n",
    "    print(n1, end=\", \")\n",
    "    nth = n1 + n2\n",
    "    n1 = n2\n",
    "    n2 = nth\n",
    "    counter = n1"
   ]
  },
  {
   "cell_type": "code",
   "execution_count": null,
   "metadata": {},
   "outputs": [],
   "source": []
  },
  {
   "cell_type": "markdown",
   "metadata": {},
   "source": [
    "### Example 4: Check Prime Number\n",
    "    \n",
    "    A positive integer greater than 1 which has no other factors except 1 and the number \n",
    "    itself is called a prime number. \n",
    "    \n",
    "    For example, 2,3,17,47 etc.\n",
    "    "
   ]
  },
  {
   "cell_type": "code",
   "execution_count": 13,
   "metadata": {},
   "outputs": [
    {
     "name": "stdout",
     "output_type": "stream",
     "text": [
      "18 is not a prime number.\n"
     ]
    }
   ],
   "source": [
    "number = 18\n",
    "\n",
    "flag = 1\n",
    "\n",
    "for i in range(2, number):\n",
    "    if number % i == 0:\n",
    "        print(number, \"is not a prime number.\")\n",
    "        flag = 0\n",
    "        break\n",
    "        \n",
    "if flag == 1:\n",
    "    print(number, \"is a prime number.\")"
   ]
  },
  {
   "cell_type": "code",
   "execution_count": null,
   "metadata": {},
   "outputs": [],
   "source": []
  },
  {
   "cell_type": "code",
   "execution_count": null,
   "metadata": {},
   "outputs": [],
   "source": []
  },
  {
   "cell_type": "code",
   "execution_count": null,
   "metadata": {},
   "outputs": [],
   "source": []
  }
 ],
 "metadata": {
  "kernelspec": {
   "display_name": "Python 3",
   "language": "python",
   "name": "python3"
  },
  "language_info": {
   "codemirror_mode": {
    "name": "ipython",
    "version": 3
   },
   "file_extension": ".py",
   "mimetype": "text/x-python",
   "name": "python",
   "nbconvert_exporter": "python",
   "pygments_lexer": "ipython3",
   "version": "3.7.6"
  }
 },
 "nbformat": 4,
 "nbformat_minor": 2
}
